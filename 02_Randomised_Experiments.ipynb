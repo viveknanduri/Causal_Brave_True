{
 "cells": [
  {
   "cell_type": "markdown",
   "id": "0a53a47f",
   "metadata": {},
   "source": [
    "# Gold Standard\n",
    "\n",
    "We've established that association is to be equal to causation when the outcome of the untreated is equal to the counterfactual outcome of the treated.\n",
    "\n"
   ]
  },
  {
   "cell_type": "markdown",
   "id": "da42ae5d",
   "metadata": {},
   "source": []
  }
 ],
 "metadata": {
  "language_info": {
   "name": "python"
  }
 },
 "nbformat": 4,
 "nbformat_minor": 5
}
